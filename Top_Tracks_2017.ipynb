{
 "cells": [
  {
   "cell_type": "code",
   "execution_count": 5,
   "metadata": {},
   "outputs": [],
   "source": [
    "# Import Dependencies\n",
    "import pandas as pd\n",
    "import numpy as np\n",
    "import matplotlib.pyplot as plt\n",
    "\n",
    "import hdf5_getters as hg"
   ]
  },
  {
   "cell_type": "code",
   "execution_count": 6,
   "metadata": {},
   "outputs": [
    {
     "name": "stdout",
     "output_type": "stream",
     "text": [
      "218.93179\n"
     ]
    }
   ],
   "source": [
    "h5 = hg.open_h5_file_read(\"data/MillionSongSubset/data/A/A/A/TRAAAAW128F429D538.h5\")\n",
    "\n",
    "duration = hg.get_duration(h5)\n",
    "print(f'duration: {duration}')\n",
    "\n",
    "location = hg.get_artist_location\n",
    "print(f'location: {location}')\n",
    "\n",
    "num_songs = hg.get_num_songs\n",
    "print(f'num songs: {num_songs})\n",
    "\n",
    "artist_name = hg.get_artist_name\n",
    "\n",
    "h5.close()"
   ]
  }
 ],
 "metadata": {
  "kernelspec": {
   "display_name": "Python 3",
   "language": "python",
   "name": "python3"
  },
  "language_info": {
   "codemirror_mode": {
    "name": "ipython",
    "version": 3
   },
   "file_extension": ".py",
   "mimetype": "text/x-python",
   "name": "python",
   "nbconvert_exporter": "python",
   "pygments_lexer": "ipython3",
   "version": "3.6.8"
  }
 },
 "nbformat": 4,
 "nbformat_minor": 2
}
